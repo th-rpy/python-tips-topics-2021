{
 "cells": [
  {
   "cell_type": "code",
   "execution_count": 2,
   "metadata": {},
   "outputs": [],
   "source": [
    "import pandas as pd # For dataframes \n",
    "import numpy as np # For numpy arrays "
   ]
  },
  {
   "cell_type": "markdown",
   "metadata": {},
   "source": [
    "#### Creating a DataFrame from a dictionary of lists"
   ]
  },
  {
   "cell_type": "code",
   "execution_count": 9,
   "metadata": {},
   "outputs": [
    {
     "data": {
      "text/html": [
       "<div>\n",
       "<style scoped>\n",
       "    .dataframe tbody tr th:only-of-type {\n",
       "        vertical-align: middle;\n",
       "    }\n",
       "\n",
       "    .dataframe tbody tr th {\n",
       "        vertical-align: top;\n",
       "    }\n",
       "\n",
       "    .dataframe thead th {\n",
       "        text-align: right;\n",
       "    }\n",
       "</style>\n",
       "<table border=\"1\" class=\"dataframe\">\n",
       "  <thead>\n",
       "    <tr style=\"text-align: right;\">\n",
       "      <th></th>\n",
       "      <th>name</th>\n",
       "      <th>sex</th>\n",
       "      <th>Languages</th>\n",
       "    </tr>\n",
       "  </thead>\n",
       "  <tbody>\n",
       "    <tr>\n",
       "      <th>0</th>\n",
       "      <td>Mario</td>\n",
       "      <td>M</td>\n",
       "      <td>Python, C++, Ruby, C</td>\n",
       "    </tr>\n",
       "    <tr>\n",
       "      <th>1</th>\n",
       "      <td>John</td>\n",
       "      <td>M</td>\n",
       "      <td>Java, JavaScript, Julia, C</td>\n",
       "    </tr>\n",
       "    <tr>\n",
       "      <th>2</th>\n",
       "      <td>Mary</td>\n",
       "      <td>F</td>\n",
       "      <td>C++, JavaScript, C, R</td>\n",
       "    </tr>\n",
       "    <tr>\n",
       "      <th>3</th>\n",
       "      <td>Zayd</td>\n",
       "      <td>M</td>\n",
       "      <td>Python, JavaScript, C++, C</td>\n",
       "    </tr>\n",
       "    <tr>\n",
       "      <th>4</th>\n",
       "      <td>Sara</td>\n",
       "      <td>F</td>\n",
       "      <td>Python, R, Julia, SQL</td>\n",
       "    </tr>\n",
       "  </tbody>\n",
       "</table>\n",
       "</div>"
      ],
      "text/plain": [
       "    name sex                   Languages\n",
       "0  Mario   M        Python, C++, Ruby, C\n",
       "1   John   M  Java, JavaScript, Julia, C\n",
       "2   Mary   F       C++, JavaScript, C, R\n",
       "3   Zayd   M  Python, JavaScript, C++, C\n",
       "4   Sara   F       Python, R, Julia, SQL"
      ]
     },
     "execution_count": 9,
     "metadata": {},
     "output_type": "execute_result"
    }
   ],
   "source": [
    "import pandas as pd\n",
    "\n",
    "df = pd.DataFrame({\n",
    "    \"name\": [\"Mario\", \"John\", \"Mary\", \"Zayd\", \"Sara\", \"Ahmed\", \"Farah\"],\n",
    "    \"sex\": [\"M\", \"M\", \"F\", \"M\", \"F\", \"M\", \"F\"],\n",
    "    \"Languages\": [\"Python, C++, Ruby, C\", \n",
    "                \"Java, JavaScript, Julia, C\", \n",
    "                \"C++, JavaScript, C, R\", \n",
    "                \"Python, JavaScript, C++, C\",\n",
    "                \"Python, R, Julia, SQL\",\n",
    "                \"Java, JavaScript, Julia, R\",\n",
    "                \"JavaScript, C++, Julia, C\"]\n",
    "}, index=[i for i in range(0, 7)])\n",
    "\n",
    "df.head() # To see the first 5 rows of the dataframe"
   ]
  },
  {
   "cell_type": "markdown",
   "metadata": {},
   "source": [
    "#### Dealing with multivalue columns\n"
   ]
  },
  {
   "cell_type": "code",
   "execution_count": 10,
   "metadata": {},
   "outputs": [
    {
     "data": {
      "text/html": [
       "<div>\n",
       "<style scoped>\n",
       "    .dataframe tbody tr th:only-of-type {\n",
       "        vertical-align: middle;\n",
       "    }\n",
       "\n",
       "    .dataframe tbody tr th {\n",
       "        vertical-align: top;\n",
       "    }\n",
       "\n",
       "    .dataframe thead th {\n",
       "        text-align: right;\n",
       "    }\n",
       "</style>\n",
       "<table border=\"1\" class=\"dataframe\">\n",
       "  <thead>\n",
       "    <tr style=\"text-align: right;\">\n",
       "      <th></th>\n",
       "      <th>name</th>\n",
       "      <th>sex</th>\n",
       "      <th>Languages</th>\n",
       "    </tr>\n",
       "  </thead>\n",
       "  <tbody>\n",
       "    <tr>\n",
       "      <th>0</th>\n",
       "      <td>Mario</td>\n",
       "      <td>M</td>\n",
       "      <td>[Python,  C++,  Ruby,  C]</td>\n",
       "    </tr>\n",
       "    <tr>\n",
       "      <th>1</th>\n",
       "      <td>John</td>\n",
       "      <td>M</td>\n",
       "      <td>[Java,  JavaScript,  Julia,  C]</td>\n",
       "    </tr>\n",
       "    <tr>\n",
       "      <th>2</th>\n",
       "      <td>Mary</td>\n",
       "      <td>F</td>\n",
       "      <td>[C++,  JavaScript,  C,  R]</td>\n",
       "    </tr>\n",
       "    <tr>\n",
       "      <th>3</th>\n",
       "      <td>Zayd</td>\n",
       "      <td>M</td>\n",
       "      <td>[Python,  JavaScript,  C++,  C]</td>\n",
       "    </tr>\n",
       "    <tr>\n",
       "      <th>4</th>\n",
       "      <td>Sara</td>\n",
       "      <td>F</td>\n",
       "      <td>[Python,  R,  Julia,  SQL]</td>\n",
       "    </tr>\n",
       "  </tbody>\n",
       "</table>\n",
       "</div>"
      ],
      "text/plain": [
       "    name sex                        Languages\n",
       "0  Mario   M        [Python,  C++,  Ruby,  C]\n",
       "1   John   M  [Java,  JavaScript,  Julia,  C]\n",
       "2   Mary   F       [C++,  JavaScript,  C,  R]\n",
       "3   Zayd   M  [Python,  JavaScript,  C++,  C]\n",
       "4   Sara   F       [Python,  R,  Julia,  SQL]"
      ]
     },
     "execution_count": 10,
     "metadata": {},
     "output_type": "execute_result"
    }
   ],
   "source": [
    "df['Languages'] = df['Languages'].str.split(',') # Split the Languages column into a list of values\n",
    "df.head() # To see the first 5 rows of the dataframe"
   ]
  }
 ],
 "metadata": {
  "kernelspec": {
   "display_name": "Python 3.10.4 64-bit",
   "language": "python",
   "name": "python3"
  },
  "language_info": {
   "codemirror_mode": {
    "name": "ipython",
    "version": 3
   },
   "file_extension": ".py",
   "mimetype": "text/x-python",
   "name": "python",
   "nbconvert_exporter": "python",
   "pygments_lexer": "ipython3",
   "version": "3.10.4"
  },
  "orig_nbformat": 4,
  "vscode": {
   "interpreter": {
    "hash": "369f2c481f4da34e4445cda3fffd2e751bd1c4d706f27375911949ba6bb62e1c"
   }
  }
 },
 "nbformat": 4,
 "nbformat_minor": 2
}
